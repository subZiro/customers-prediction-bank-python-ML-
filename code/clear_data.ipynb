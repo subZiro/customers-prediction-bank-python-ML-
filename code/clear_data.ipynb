{
 "cells": [
  {
   "cell_type": "code",
   "execution_count": 1,
   "metadata": {},
   "outputs": [],
   "source": [
    "import numpy as np\n",
    "import pandas as pd"
   ]
  },
  {
   "cell_type": "code",
   "execution_count": 2,
   "metadata": {},
   "outputs": [],
   "source": [
    "#df = pd.read_csv('datafiles/Credit.csv', encoding = 'cp1251', sep = ';', \\\n",
    "#                 converters={'CREDIT': lambda x: float(x.replace(',','.'))})"
   ]
  },
  {
   "cell_type": "code",
   "execution_count": null,
   "metadata": {},
   "outputs": [],
   "source": []
  },
  {
   "cell_type": "code",
   "execution_count": 3,
   "metadata": {},
   "outputs": [],
   "source": [
    "# загрузка данных, с кодировкой, через разделитель строк ';', десятичные числа разделяются через ','\n",
    "# первая колонка = уникальный номер анализируемого пользвт\n",
    "def f_read_csv(filename_str):\n",
    "    return pd.read_csv('../datasets/{}.csv'.format(filename_str), \n",
    "                 encoding = 'cp1251', \n",
    "                 sep = ';', \n",
    "                 decimal = ',',\n",
    "                 #na_filter = False,\n",
    "                 index_col = 'AGREEMENT_RK')\n"
   ]
  },
  {
   "cell_type": "code",
   "execution_count": 4,
   "metadata": {},
   "outputs": [],
   "source": [
    "pd.set_option('display.max_columns', 500)\n",
    "pd.set_option('display.max_rows', 100)\n",
    "pd.set_option('precision', 2)"
   ]
  },
  {
   "cell_type": "code",
   "execution_count": null,
   "metadata": {},
   "outputs": [],
   "source": []
  },
  {
   "cell_type": "code",
   "execution_count": null,
   "metadata": {},
   "outputs": [],
   "source": []
  },
  {
   "cell_type": "code",
   "execution_count": null,
   "metadata": {},
   "outputs": [],
   "source": []
  },
  {
   "cell_type": "code",
   "execution_count": 5,
   "metadata": {},
   "outputs": [
    {
     "ename": "NameError",
     "evalue": "name 'stop' is not defined",
     "output_type": "error",
     "traceback": [
      "\u001b[0;31m---------------------------------------------------------------------------\u001b[0m",
      "\u001b[0;31mNameError\u001b[0m                                 Traceback (most recent call last)",
      "\u001b[0;32m<ipython-input-5-4f76a9dad686>\u001b[0m in \u001b[0;36m<module>\u001b[0;34m\u001b[0m\n\u001b[0;32m----> 1\u001b[0;31m \u001b[0mstop\u001b[0m\u001b[0;34m\u001b[0m\u001b[0;34m\u001b[0m\u001b[0m\n\u001b[0m",
      "\u001b[0;31mNameError\u001b[0m: name 'stop' is not defined"
     ]
    }
   ],
   "source": [
    "stop"
   ]
  },
  {
   "cell_type": "code",
   "execution_count": null,
   "metadata": {},
   "outputs": [],
   "source": [
    "to_object = ['PREVIOUS_CARD_NUM_UTILIZED_MY', 'CHILD_TOTAL_G_MY', 'ORG_TP_FCAPITAL', \n",
    "             'MARITAL_STATUS_G_MY', 'AUTO_G_MY', 'GEN_TITLE_MY' 'PRESENCE_MY', \n",
    "             'LOAN_DLQ_MY', 'LOAN_NUM_ACTIVE_MY']"
   ]
  },
  {
   "cell_type": "code",
   "execution_count": null,
   "metadata": {},
   "outputs": [],
   "source": [
    "def f_data_clear_v2(df = 'df'):\n",
    "    \n",
    "\n",
    "    # заполнение пустых значений на 0 в колонке смена карты \n",
    "    df['PREVIOUS_CARD_NUM_UTILIZED'] = df['PREVIOUS_CARD_NUM_UTILIZED'].replace(np.nan, 0)\n",
    "    #df['PREVIOUS_CARD_NUM_UTILIZED'] =  df['PREVIOUS_CARD_NUM_UTILIZED'].apply((lambda x : x if x > 1 else 0))\n",
    "    \n",
    "    # создание таблицы есть менял ли карту\n",
    "    df['PREVIOUS_CARD_NUM_UTILIZED_MY'] = df['PREVIOUS_CARD_NUM_UTILIZED'].apply((lambda x : x if x == 0 else 1))\n",
    "    df['PREVIOUS_CARD_NUM_UTILIZED_MY'] = df['PREVIOUS_CARD_NUM_UTILIZED_MY'].astype(object)\n",
    "\n",
    "    \n",
    "    \n",
    "    # объединение степени и оконченное высшее в высшее образование\n",
    "    edu_list_new = ['Два и более высших образования', 'Ученая степень', 'Высшее']\n",
    "    df.EDUCATION = df.EDUCATION.replace(edu_list_new, 'Высшее или несколько высших')\n",
    "\n",
    "\n",
    "    # группировка 5 и более детей в 5 \n",
    "    #df.CHILD_TOTAL = df.CHILD_TOTAL.replace(range(5,15), 5)\n",
    "    #df.CHILD_TOTAL.value_counts()\n",
    "\n",
    "    # группировка 5 и более иждивенцев в 5\n",
    "    #df.DEPENDANTS = df.DEPENDANTS.replace(range(5,14), 5)\n",
    "    #df.DEPENDANTS.value_counts()\n",
    "\n",
    "    #Создание категории есть дети или нет детей\n",
    "    df['CHILD_TOTAL_G_MY'] = df['CHILD_TOTAL']\n",
    "    df['CHILD_TOTAL_G_MY'] =  df['CHILD_TOTAL_G_MY'].apply((lambda x : x if x == 0 else 1)).astype(object)\n",
    "    #astype='object'\n",
    "    \n",
    "    df['CHILD_TOTAL_MY'] = df['CHILD_TOTAL'].apply((lambda x : x if x < 3 else 4)).astype(int)\n",
    "    \n",
    "    \n",
    "    # меняем тип на логический ( 1 | 0 ),  столбца причастность к иностранной валюте\n",
    "    rplse_dict = {'Без участия': '1', 'С участием' : '0'}\n",
    "    df['ORG_TP_FCAPITAL'] = df['ORG_TP_FCAPITAL'].map(rplse_dict).astype(object)\n",
    "\n",
    "    \n",
    "    # создание колонки состоит в браке или нет \n",
    "    a_list = ['Состою в браке', 'Гражданский брак']\n",
    "    b_list = ['Не состоял в браке', 'Разведен(а)', 'Вдовец/Вдова']\n",
    "    df['MARITAL_STATUS_G_MY'] = df['MARITAL_STATUS']\n",
    "    df.MARITAL_STATUS_G_MY = df.MARITAL_STATUS_G_MY.replace(a_list, '1')\n",
    "    df.MARITAL_STATUS_G_MY = df.MARITAL_STATUS_G_MY.replace(b_list, '0')\n",
    "    df.MARITAL_STATUS_G_MY = df.MARITAL_STATUS_G_MY.astype(object)\n",
    "\n",
    "    # создание столбца , есть ли машина\n",
    "    #df['AUTO_G_MY'] = df['OWN_AUTO']\n",
    "    df['AUTO_G_MY'] = df['OWN_AUTO'].apply((lambda x : x if x == 0 else 1)).astype(object)\n",
    "\n",
    "    df['GEN_TITLE_MY'] = df['GEN_TITLE']\n",
    "    df['GEN_TITLE_MY'] = df['GEN_TITLE_MY'].replace('Военнослужащий по контракту', 'Служащий')\n",
    "    df['GEN_TITLE_MY'] = df['GEN_TITLE_MY'].replace('Высококвалифиц. специалист', 'Специалист')\n",
    "    df['GEN_TITLE_MY'] = df['GEN_TITLE_MY'].replace('Руководитель среднего звена', 'Руководитель')\n",
    "    df['GEN_TITLE_MY'] = df['GEN_TITLE_MY'].replace('Руководитель низшего звена', 'Руководитель')\n",
    "    df['GEN_TITLE_MY'] = df['GEN_TITLE_MY'].replace('Руководитель высшего звена', 'Руководитель')\n",
    "    df['GEN_TITLE_MY'] = df['GEN_TITLE_MY'].replace('Партнер', 'Другое')\n",
    "    gen_list = ['Служащий', 'Специалист', 'Руководитель', 'Рабочий' 'Индивидуальный предприниматель'\n",
    "                   'Другое']\n",
    "    df['GEN_TITLE_MY'] = df['GEN_TITLE_MY'].apply(\n",
    "        (lambda x : x if x in gen_list else 'Другое')).astype(object)\n",
    "    \n",
    "\n",
    "    # создание столбца, количество не движемого имещества\n",
    "    #presence_list = ['FL_PRESENCE_FL', 'HS_PRESENCE_FL', 'COT_PRESENCE_FL', 'GAR_PRESENCE_FL', 'LAND_PRESENCE_FL']\n",
    "\n",
    "    df['PRESENCE_COUNT_MY'] = df['FL_PRESENCE_FL'] + df['HS_PRESENCE_FL'] + \\\n",
    "                            df['COT_PRESENCE_FL'] + df['GAR_PRESENCE_FL'] + \\\n",
    "                            df['LAND_PRESENCE_FL']\n",
    "\n",
    "    # создание столбца, не движимое имущество, если есть то 1 если нет то 0 \n",
    "    df['PRESENCE_MY'] =  df['PRESENCE_COUNT_MY'].apply((lambda x : x if x == 0 else 1))\n",
    "    df['PRESENCE_MY'] = df['PRESENCE_MY'].astype(object)\n",
    "\n",
    "    # создание столбца была ли просроска при ссуде\n",
    "    df['LOAN_DLQ_MY'] = df['LOAN_DLQ_NUM']\n",
    "    df['LOAN_DLQ_MY'] =  df['LOAN_DLQ_MY'].apply((lambda x : x if x > 1 else 0)).astype(object)\n",
    "\n",
    "    # создание столбца есть ли активая ссуда\n",
    "    df['LOAN_NUM_ACTIVE_MY'] = df['LOAN_NUM_TOTAL'] - df['LOAN_NUM_CLOSED']\n",
    "    #df[df['LOAN_NUM_ACTIVE_MY'] > 3].LOAN_NUM_ACTIVE_MY = 3\n",
    "    df['LOAN_NUM_ACTIVE_MY'] =  df['LOAN_NUM_ACTIVE_MY'].apply((lambda x : x if x > 1 else 0)).astype(object)\n",
    "\n",
    "    # создание возрастных групп\n",
    "    df['AGE_MY'] = df['AGE'].map(lambda age: int(age // 10))\n",
    "    #df.AGE_MY.head()\n",
    "\n",
    "    # создание категорий возрастов\n",
    "    age_list_value = ['e','f', 'a','b','c','d']\n",
    "    age_dict = dict(zip(range(1,7),age_list_value))\n",
    "    df['AGE_G_MY'] = df['AGE_MY']\n",
    "    df['AGE_G_MY'] =  df['AGE_G_MY'].map(age_dict)\n",
    "\n",
    "    #df.AGE_G_MY.value_counts()\n",
    "    \n",
    "    # заполненме пустых значений столбца время работы на значения из столбца время жизни на посл месте\n",
    "    df['WORK_TIME'] = df['WORK_TIME'].replace(np.nan, df.FACT_LIVING_TERM)\n",
    "    \n",
    "    \n",
    "    region_list = ['ПОВОЛЖСКИЙ', 'ЮЖНЫЙ', 'ВОСТОЧНО-СИБИРСКИЙ',\n",
    "                   'ЦЕНТРАЛЬНЫЙ 1', 'ЦЕНТРАЛЬНЫЙ 2', 'ДАЛЬНЕВОСТОЧНЫЙ',\n",
    "                   'УРАЛЬСКИЙ', 'ЗАПАДНО-СИБИРСКИЙ', 'СЕВЕРО-ЗАПАДНЫЙ',\n",
    "                   'ПРИВОЛЖСКИЙ', 'ЦЕНТРАЛЬНЫЙ ОФИС']\n",
    "    \n",
    "    family_money = ['от 10000 до 20000 руб.', 'от 20000 до 50000 руб.',\n",
    "       'свыше 50000 руб.', 'от 5000 до 10000 руб.', 'до 5000 руб.']\n",
    "    \n",
    "    worker_list = ['Частная компания', 'Индивидуальный предприниматель',\n",
    "       'Государственная комп./учреж.', 'Некоммерческая организация',\n",
    "       'Частная ком. с инос. капиталом']\n",
    "    \n",
    "    \n",
    "    \n",
    "    df['FAMILY_MONEY_MY'] = df['PERSONAL_INCOME'].apply((lambda x : x*2 if x > 1 else 0))\n",
    "    \n",
    "    \n",
    "   # AGEPERSONAL_INCOME\n",
    "    \n",
    "    work_list = ['Рабочий', 'Специалист', 'Руководитель среднего звена',\n",
    "       'Руководитель высшего звена', 'Служащий', 'Работник сферы услуг',\n",
    "       'Высококвалифиц. специалист', 'Индивидуальный предприниматель',\n",
    "        'Руководитель низшего звена', 'Другое', 'Партнер']\n",
    "    \n",
    "    work_dir = ['Вспомогательный техперсонал', 'Участие в основ. деятельности',\n",
    "       'Адм-хоз. и трансп. службы', 'Пр-техн. обесп. и телеком.',\n",
    "       'Служба безопасности', 'Бухгалтерия, финансы, планир.',\n",
    "       'Снабжение и сбыт', 'Кадровая служба и секретариат',\n",
    "       'Юридическая служба', 'Реклама и маркетинг']\n",
    "    \n",
    "    return df\n",
    "\n",
    "\n"
   ]
  },
  {
   "cell_type": "code",
   "execution_count": null,
   "metadata": {},
   "outputs": [],
   "source": [
    "# преобразование в инт в объекты \n",
    "\n",
    "# ручное \n",
    "#df.SOCSTATUS_WORK_FL = df.SOCSTATUS_WORK_FL.astype(object)\n",
    "#df.TARGET = df.TARGET.astype(object)\n",
    "#df.SOCSTATUS_PENS_FL = df.SOCSTATUS_PENS_FL.astype(object)\n",
    "\n",
    "# через фунуцию\n",
    "def f_data_to_obj(datafile = 'df'):\n",
    "    # изменение через заданый список столбцов\n",
    "    to_obj_list = ['SOCSTATUS_WORK_FL', 'SOCSTATUS_PENS_FL', 'GENDER',\n",
    "                   'REG_FACT_FL', 'FACT_POST_FL', 'REG_POST_FL', 'REG_FACT_POST_FL',\n",
    "                   'REG_FACT_POST_TP_FL', 'FL_PRESENCE_FL', 'AUTO_RUS_FL', \n",
    "                   'HS_PRESENCE_FL', 'COT_PRESENCE_FL', 'GAR_PRESENCE_FL', \n",
    "                   'LAND_PRESENCE_FL', 'DL_DOCUMENT_FL', 'GPF_DOCUMENT_FL', \n",
    "                   'FACT_PHONE_FL', 'REG_PHONE_FL', 'GEN_PHONE_FL',\n",
    "                   'PREVIOUS_CARD_NUM_UTILIZED_MY', 'CHILD_TOTAL_G_MY', 'ORG_TP_FCAPITAL', \n",
    "                   'MARITAL_STATUS_G_MY', 'AUTO_G_MY', 'GEN_TITLE_MY',\n",
    "                   'PRESENCE_MY', 'LOAN_DLQ_MY', 'LOAN_NUM_ACTIVE_MY']\n",
    "    \n",
    "    \n",
    "    for elem in to_obj_list:\n",
    "        datafile[elem] = datafile[elem].astype(object)\n",
    "    \n",
    "    return datafile\n",
    "#df.AGE_G_MY.describe()\n"
   ]
  },
  {
   "cell_type": "code",
   "execution_count": null,
   "metadata": {},
   "outputs": [],
   "source": [
    "def f_data_obj_notnan(datafile = 'df'):\n",
    "    # заполнение пустых значений на лучшее в категориальных данных\n",
    "    \n",
    "    datafile_describe = datafile.describe(include=[object])\n",
    "    \n",
    "    for colm in categorical_columns:\n",
    "        datafile[colm] = datafile[colm].fillna(datafile_describe[colm]['top'])\n",
    "        #datafile[colm] = datafile[colm].replace(np.nan, datafile_describe[colm]['top'])\n",
    "        print(colm, 'ok')\n",
    "        \n",
    "    return datafile\n"
   ]
  },
  {
   "cell_type": "code",
   "execution_count": null,
   "metadata": {},
   "outputs": [],
   "source": [
    "def f_data_bin_colom_notnan(datafile = 'df'):\n",
    "    #заполнение пустых бинарных признаков лучшими \n",
    "    \n",
    "    datafile_describe = datafile.describe(include=[object])\n",
    "\n",
    "    for colm in binary_columns:\n",
    "        top = datafile_describe[colm]['top']\n",
    "        top_items = datafile[colm] == top\n",
    "        datafile.loc[top_items, colm] = 0\n",
    "        datafile.loc[np.logical_not(top_items), colm] = 1\n",
    "        print(colm, 'ok')\n",
    "\n",
    "       \n",
    "    #print(df[binary_columns])\n",
    "    return datafile\n"
   ]
  },
  {
   "cell_type": "code",
   "execution_count": null,
   "metadata": {},
   "outputs": [],
   "source": [
    "# заполнение пустых количественных признаков на медиану столбца\n",
    "def f_data_npnan_num_col_to_median(datafile = 'df'):\n",
    "    for col in numerical_columns:\n",
    "        #datafile = datafile[col].fillna(datafile[col].median(axis=0), axis=0)\n",
    "        #df[col] = df[col].fillna(df[col].median(axis=0), axis=0)\n",
    "        datafile[col] = datafile[col].replace(np.nan, datafile[col].median(axis=0))\n",
    "        \n",
    "    return datafile\n"
   ]
  },
  {
   "cell_type": "code",
   "execution_count": null,
   "metadata": {},
   "outputs": [],
   "source": [
    "#вывод всех значений категориальных признаков по каждому столбцу\n",
    "def f_print_categorical_columns(datafile = 'df'):\n",
    "    for colm in categorical_columns:\n",
    "        print (datafile[colm].unique())\n",
    "        print()\n",
    "    \n",
    "#f_print_categorical_columns(df) \n"
   ]
  },
  {
   "cell_type": "code",
   "execution_count": null,
   "metadata": {},
   "outputs": [],
   "source": [
    "# функция находит пустые сроки и столбцы и выводит их\n",
    "def f_data_is_npnan_colrow(datafile = 'df'):\n",
    "    col_mask = df.isnull().any(axis=0) \n",
    "    row_mask = df.isnull().any(axis=1)\n",
    "    print(df.loc[row_mask,col_mask])\n",
    "    "
   ]
  },
  {
   "cell_type": "code",
   "execution_count": null,
   "metadata": {},
   "outputs": [],
   "source": [
    "def f_data_type_cat_num(datafile = 'df'):\n",
    "\n",
    "    # получаем список столбцов с катерогриальными признаками\n",
    "    categorical_col = [colm for colm in datafile.columns if datafile[colm].dtype.name == 'object']\n",
    "    #print (categorical_col)\n",
    "\n",
    "    # получаем список столбцов с количественными признаками\n",
    "    #список количественных признаков (1 34 54 8)\n",
    "    '''numerical_col = ['AGE', 'CHILD_TOTAL', 'DEPENDANTS', 'PERSONAL_INCOME',\n",
    "                         'OWN_AUTO', 'CREDIT', 'TERM', 'FST_PAYMENT',\n",
    "                         'FACT_LIVING_TERM', 'WORK_TIME', 'LOAN_NUM_TOTAL',\n",
    "                         'LOAN_NUM_CLOSED', 'LOAN_NUM_PAYM', 'LOAN_DLQ_NUM', \n",
    "                         'LOAN_MAX_DLQ', 'LOAN_AVG_DLQ_AMT', 'LOAN_MAX_DLQ_AMT']\n",
    "    '''\n",
    "    numerical_col = [colm for colm in datafile.columns if datafile[colm].dtype.name != 'object']\n",
    "    #print(numerical_columns) \n",
    "\n",
    "    return categorical_col, numerical_col\n",
    "        "
   ]
  },
  {
   "cell_type": "code",
   "execution_count": null,
   "metadata": {},
   "outputs": [],
   "source": [
    "def f_data_type_bi_nonbi(datafile = 'df', categorical_col = 'categorical_columns'):\n",
    "    datafile_describe = datafile.describe(include=[object])\n",
    "    \n",
    "    # список бинарных признаков (да нет)\n",
    "    binary_col = [colm for colm in categorical_col if datafile_describe[colm]['unique'] == 2]\n",
    "    #print (binary_columns)\n",
    "\n",
    "    # список не бинарных признаков (красный зеленый синий)\n",
    "    nonbinary_col = [colm for colm in categorical_col if datafile_describe[colm]['unique'] > 2]\n",
    "    #print(nonbinary_columns)\n",
    "    \n",
    "    return binary_col, nonbinary_col\n"
   ]
  },
  {
   "cell_type": "code",
   "execution_count": null,
   "metadata": {},
   "outputs": [],
   "source": []
  },
  {
   "cell_type": "code",
   "execution_count": null,
   "metadata": {},
   "outputs": [],
   "source": []
  },
  {
   "cell_type": "code",
   "execution_count": null,
   "metadata": {},
   "outputs": [],
   "source": []
  },
  {
   "cell_type": "code",
   "execution_count": null,
   "metadata": {},
   "outputs": [],
   "source": []
  },
  {
   "cell_type": "code",
   "execution_count": null,
   "metadata": {},
   "outputs": [],
   "source": []
  },
  {
   "cell_type": "code",
   "execution_count": null,
   "metadata": {},
   "outputs": [],
   "source": []
  },
  {
   "cell_type": "code",
   "execution_count": null,
   "metadata": {},
   "outputs": [],
   "source": []
  },
  {
   "cell_type": "code",
   "execution_count": null,
   "metadata": {},
   "outputs": [],
   "source": []
  },
  {
   "cell_type": "code",
   "execution_count": null,
   "metadata": {},
   "outputs": [],
   "source": [
    "# чтение тренировочного файла\n",
    "filename_train = 'Credit'\n",
    "df = f_read_csv(filename_train)"
   ]
  },
  {
   "cell_type": "code",
   "execution_count": null,
   "metadata": {},
   "outputs": [],
   "source": [
    "# очистка дф\n",
    "df = f_data_clear_v2(df)"
   ]
  },
  {
   "cell_type": "code",
   "execution_count": null,
   "metadata": {},
   "outputs": [],
   "source": [
    "# преобразование int таблиц в obj\n",
    "df = f_data_to_obj(df)"
   ]
  },
  {
   "cell_type": "code",
   "execution_count": null,
   "metadata": {},
   "outputs": [],
   "source": [
    "df.shape"
   ]
  },
  {
   "cell_type": "code",
   "execution_count": null,
   "metadata": {},
   "outputs": [],
   "source": [
    "df['TARGET'] = df['TARGET'].astype(object)\n",
    "\n",
    "# отделение столбца таргет в отдельную переменую\n",
    "target_columns = df['TARGET']\n",
    "df = df[list(set(df.columns).difference(['TARGET']))]\n",
    "\n",
    "#df = df.difference(['TARGET'])\n",
    "#df.drop(df.TARGET, inplace=True)"
   ]
  },
  {
   "cell_type": "code",
   "execution_count": null,
   "metadata": {},
   "outputs": [],
   "source": []
  },
  {
   "cell_type": "code",
   "execution_count": null,
   "metadata": {},
   "outputs": [],
   "source": []
  },
  {
   "cell_type": "code",
   "execution_count": null,
   "metadata": {},
   "outputs": [],
   "source": []
  },
  {
   "cell_type": "code",
   "execution_count": null,
   "metadata": {},
   "outputs": [],
   "source": [
    "categorical_columns, numerical_columns = f_data_type_cat_num(df)"
   ]
  },
  {
   "cell_type": "code",
   "execution_count": null,
   "metadata": {},
   "outputs": [],
   "source": [
    "binary_columns, nonbinary_columns = f_data_type_bi_nonbi(df, categorical_columns)"
   ]
  },
  {
   "cell_type": "code",
   "execution_count": null,
   "metadata": {},
   "outputs": [],
   "source": []
  },
  {
   "cell_type": "code",
   "execution_count": null,
   "metadata": {},
   "outputs": [],
   "source": [
    "# заполнение пустых значений на лучшее в категориальных данных\n",
    "df = f_data_obj_notnan(df)"
   ]
  },
  {
   "cell_type": "code",
   "execution_count": null,
   "metadata": {},
   "outputs": [],
   "source": []
  },
  {
   "cell_type": "code",
   "execution_count": null,
   "metadata": {},
   "outputs": [],
   "source": [
    "# получаем информацию о котерогиальных признаках\n",
    "#df[categorical_columns].describe()"
   ]
  },
  {
   "cell_type": "code",
   "execution_count": null,
   "metadata": {},
   "outputs": [],
   "source": []
  },
  {
   "cell_type": "code",
   "execution_count": null,
   "metadata": {},
   "outputs": [],
   "source": []
  },
  {
   "cell_type": "code",
   "execution_count": null,
   "metadata": {},
   "outputs": [],
   "source": [
    "# заполнение пустых бинарных признаков лучшими из столбца\n",
    "#df = f_data_bin_colom_notnan(df)"
   ]
  },
  {
   "cell_type": "code",
   "execution_count": null,
   "metadata": {},
   "outputs": [],
   "source": []
  },
  {
   "cell_type": "code",
   "execution_count": null,
   "metadata": {},
   "outputs": [],
   "source": []
  },
  {
   "cell_type": "code",
   "execution_count": null,
   "metadata": {},
   "outputs": [],
   "source": [
    "# заполнение пустых количественных признаков медианами\n",
    "df = f_data_npnan_num_col_to_median(df)"
   ]
  },
  {
   "cell_type": "code",
   "execution_count": null,
   "metadata": {},
   "outputs": [],
   "source": [
    "#Нормализация количественных признаков\n",
    "df_numerical = df[numerical_columns]\n",
    "#df_numerical = df_numerical.drop('TARGET', 1)\n",
    "df_numerical = (df_numerical - df_numerical.mean()) / df_numerical.std()\n",
    "#df_numerical.describe()"
   ]
  },
  {
   "cell_type": "code",
   "execution_count": null,
   "metadata": {},
   "outputs": [],
   "source": []
  },
  {
   "cell_type": "code",
   "execution_count": null,
   "metadata": {},
   "outputs": [],
   "source": [
    "#df = df.drop('ORG_TP_FCAPITAL',  1)"
   ]
  },
  {
   "cell_type": "code",
   "execution_count": null,
   "metadata": {},
   "outputs": [],
   "source": []
  },
  {
   "cell_type": "code",
   "execution_count": null,
   "metadata": {},
   "outputs": [],
   "source": [
    "f_data_is_npnan_colrow(df)\n",
    "# вывод пустых колонок "
   ]
  },
  {
   "cell_type": "code",
   "execution_count": null,
   "metadata": {},
   "outputs": [],
   "source": []
  },
  {
   "cell_type": "code",
   "execution_count": null,
   "metadata": {},
   "outputs": [],
   "source": []
  },
  {
   "cell_type": "code",
   "execution_count": null,
   "metadata": {},
   "outputs": [],
   "source": []
  },
  {
   "cell_type": "code",
   "execution_count": null,
   "metadata": {},
   "outputs": [],
   "source": [
    "#разбиение небинарных признаков на новые столбцы с заполнеными 1,0\n",
    "df_nonbinary = pd.get_dummies(df[nonbinary_columns])\n",
    "#print (df_nonbinary.columns)"
   ]
  },
  {
   "cell_type": "code",
   "execution_count": null,
   "metadata": {},
   "outputs": [],
   "source": []
  },
  {
   "cell_type": "code",
   "execution_count": null,
   "metadata": {},
   "outputs": [],
   "source": [
    "#собираем датафрейм из новых таблиц\n",
    "\n",
    "df = pd.concat((target_columns, df_numerical, df[binary_columns], df_nonbinary), axis=1)\n",
    "#df = pd.concat((df[binary_columns], df_nonbinary), axis=1)\n",
    "\n",
    "#df = pd.DataFrame(df, dtype=float)\n",
    "#print (df.shape)\n",
    "print()\n",
    "print (df.columns)"
   ]
  },
  {
   "cell_type": "code",
   "execution_count": null,
   "metadata": {},
   "outputs": [],
   "source": []
  },
  {
   "cell_type": "code",
   "execution_count": null,
   "metadata": {},
   "outputs": [],
   "source": []
  },
  {
   "cell_type": "code",
   "execution_count": null,
   "metadata": {},
   "outputs": [],
   "source": []
  },
  {
   "cell_type": "code",
   "execution_count": null,
   "metadata": {},
   "outputs": [],
   "source": []
  },
  {
   "cell_type": "code",
   "execution_count": null,
   "metadata": {},
   "outputs": [],
   "source": []
  },
  {
   "cell_type": "code",
   "execution_count": null,
   "metadata": {},
   "outputs": [],
   "source": []
  },
  {
   "cell_type": "code",
   "execution_count": null,
   "metadata": {},
   "outputs": [],
   "source": []
  },
  {
   "cell_type": "code",
   "execution_count": null,
   "metadata": {},
   "outputs": [],
   "source": []
  },
  {
   "cell_type": "code",
   "execution_count": null,
   "metadata": {},
   "outputs": [],
   "source": [
    "# чтение тренировочного файла\n",
    "filename_train = 'Credit_new'\n",
    "df_test = f_read_csv(filename_train)\n",
    "\n",
    "# очистка дф\n",
    "df_test = f_data_clear_v2(df_test)\n",
    "\n",
    "# преобразование int таблиц в obj\n",
    "df_test = f_data_to_obj(df_test)"
   ]
  },
  {
   "cell_type": "code",
   "execution_count": null,
   "metadata": {},
   "outputs": [],
   "source": [
    "categorical_columns, numerical_columns = f_data_type_cat_num(df_test)\n",
    "binary_columns, nonbinary_columns = f_data_type_bi_nonbi(df_test, categorical_columns)"
   ]
  },
  {
   "cell_type": "code",
   "execution_count": null,
   "metadata": {},
   "outputs": [],
   "source": [
    "\n",
    "# заполнение пустых бинарных признаков лучшими из столбца\n",
    "df_test = f_data_bin_colom_notnan(df_test)\n"
   ]
  },
  {
   "cell_type": "code",
   "execution_count": null,
   "metadata": {},
   "outputs": [],
   "source": [
    "\n",
    "# заполнение пустых значений на лучшее в категориальных данных\n",
    "#df_test = f_data_obj_notnan(df_test)\n"
   ]
  },
  {
   "cell_type": "code",
   "execution_count": null,
   "metadata": {},
   "outputs": [],
   "source": [
    "#разбиение небинарных признаков на новые столбцы с заполнеными 1,0\n",
    "df_test_nonbinary = pd.get_dummies(df_test[nonbinary_columns])\n",
    "\n"
   ]
  },
  {
   "cell_type": "code",
   "execution_count": null,
   "metadata": {},
   "outputs": [],
   "source": [
    "# заполнение пустых количественных признаков медианами\n",
    "df_test = f_data_npnan_num_col_to_median(df_test)\n",
    "\n",
    "#Нормализация количественных признаков\n",
    "df_test_numerical = df_test[numerical_columns]\n",
    "df_test_numerical = (df_test_numerical - df_test_numerical.mean()) / df_test_numerical.std()\n",
    "\n"
   ]
  },
  {
   "cell_type": "code",
   "execution_count": null,
   "metadata": {},
   "outputs": [],
   "source": [
    "#собираем датафрейм из новых таблиц\n",
    "\n",
    "df_test = pd.concat((df_test_numerical, df_test[binary_columns], df_test_nonbinary), axis=1)\n",
    "#df = pd.concat((df[binary_columns], df_nonbinary), axis=1)\n",
    "\n"
   ]
  },
  {
   "cell_type": "code",
   "execution_count": null,
   "metadata": {},
   "outputs": [],
   "source": []
  },
  {
   "cell_type": "code",
   "execution_count": null,
   "metadata": {},
   "outputs": [],
   "source": [
    "# заполнение пустых бинарных признаков лучшими из столбца\n",
    "#df_test = f_data_bin_colom_notnan(df_test)\n",
    "\n",
    "\n",
    "# заполнение пустых значений на лучшее в категориальных данных\n",
    "#df_test = f_data_obj_notnan(df_test)\n",
    "\n",
    "# заполнение пустых количественных признаков медианами\n",
    "#df_test = f_data_npnan_num_col_to_median(df_test)\n",
    "\n",
    "#Нормализация количественных признаков\n",
    "#df_test_numerical = df_test[numerical_columns]\n",
    "#df_test_numerical = (df_test_numerical - df_test_numerical.mean()) / df_test_numerical.std()\n",
    "\n",
    "#разбиение небинарных признаков на новые столбцы с заполнеными 1,0\n",
    "#df_test_nonbinary = pd.get_dummies(df_test[nonbinary_columns])\n",
    "\n",
    "#собираем датафрейм из новых таблиц\n",
    "\n",
    "#df_test = pd.concat((df_test_numerical, df_test[binary_columns], df_test_nonbinary), axis=1)\n",
    "#df = pd.concat((df[binary_columns], df_nonbinary), axis=1)\n",
    "\n"
   ]
  },
  {
   "cell_type": "code",
   "execution_count": null,
   "metadata": {},
   "outputs": [],
   "source": [
    "\n"
   ]
  },
  {
   "cell_type": "code",
   "execution_count": null,
   "metadata": {},
   "outputs": [],
   "source": []
  }
 ],
 "metadata": {
  "kernelspec": {
   "display_name": "Python 3",
   "language": "python",
   "name": "python3"
  },
  "language_info": {
   "codemirror_mode": {
    "name": "ipython",
    "version": 3
   },
   "file_extension": ".py",
   "mimetype": "text/x-python",
   "name": "python",
   "nbconvert_exporter": "python",
   "pygments_lexer": "ipython3",
   "version": "3.7.2"
  }
 },
 "nbformat": 4,
 "nbformat_minor": 2
}
